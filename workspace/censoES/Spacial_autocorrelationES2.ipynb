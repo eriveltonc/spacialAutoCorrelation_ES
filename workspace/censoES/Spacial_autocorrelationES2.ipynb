{
 "cells": [
  {
   "cell_type": "code",
   "execution_count": null,
   "id": "08ae61bc",
   "metadata": {},
   "outputs": [],
   "source": [
    "import pandas as pd\n",
    "import geopandas as gpd\n",
    "import numpy as np\n",
    "from pysal.lib import weights\n",
    "from splot.libpysal import plot_spatial_weights\n",
    "from esda.moran import Moran, Moran_Local\n",
    "from splot.esda import moran_scatterplot, plot_local_autocorrelation, lisa_cluster\n",
    "import matplotlib.pyplot as plt\n",
    "import folium\n",
    "import matplotlib.colors as colors\n",
    "\n",
    "import warnings\n",
    "warnings.filterwarnings(\"ignore\")"
   ]
  },
  {
   "cell_type": "code",
   "execution_count": null,
   "id": "3c35d402",
   "metadata": {},
   "outputs": [],
   "source": [
    "censo_es = gpd.GeoDataFrame.from_file('basemunicipal.geojson')\n",
    "censo_es['População'] = censo_es['População'].str.replace(r'\\D', '')\n",
    "censo_es['População'] = censo_es['População'].astype(int)\n",
    "censo_es.head()"
   ]
  },
  {
   "cell_type": "code",
   "execution_count": null,
   "id": "392f8df3",
   "metadata": {},
   "outputs": [],
   "source": [
    "#Obtendo o valor do PIB real, uma vez que o valor no dataset original se encontra em milhoes\n",
    "censo_es['PIB2020'] = censo_es['PIB2020'] *1000000\n",
    "#Convertendo area de KM2 para M2\n",
    "censo_es['aream2'] = censo_es['areaKm2'] *1000000\n",
    "#Calculando o PIB percapita dos municipios\n",
    "censo_es['PIB_percap'] = censo_es['PIB2020'] / censo_es['População']\n",
    "#Calculando a populacao por KM2\n",
    "censo_es['pop_km2'] = censo_es['População']  / censo_es['areaKm2']\n",
    "censo_es.head()"
   ]
  },
  {
   "cell_type": "code",
   "execution_count": null,
   "id": "093e49e3",
   "metadata": {},
   "outputs": [],
   "source": [
    "# Plotando choropleth map da coluna Populacao/m2\n",
    "censo_es.explore(\n",
    "    tiles='cartodbpositron',\n",
    "    column='pop_km2',\n",
    "    height='60%',\n",
    "    width='60%',\n",
    "    scheme='naturalbreaks',\n",
    "    cmap='Oranges',\n",
    "    style_kwds={\n",
    "        'stroke': True,\n",
    "        'edgecolor': 'k',\n",
    "        'linewidth': 0.03,\n",
    "        'fillOpacity': 1\n",
    "        },\n",
    "    legend_kwds={\n",
    "        'colorbar': False,\n",
    "        'fmt': '{:.0f}'\n",
    "        }\n",
    "    )"
   ]
  },
  {
   "cell_type": "code",
   "execution_count": null,
   "id": "a4065438",
   "metadata": {},
   "outputs": [],
   "source": [
    "# Plotting choropleth map da coluna Pibpercap\n",
    "censo_es.explore(\n",
    "    tiles='cartodbpositron',\n",
    "    column='PIB_percap',\n",
    "    height='60%',\n",
    "    width='60%',\n",
    "    scheme='naturalbreaks',\n",
    "    cmap='Oranges',\n",
    "    style_kwds={\n",
    "        'stroke': True,\n",
    "        'edgecolor': 'k',\n",
    "        'linewidth': 0.03,\n",
    "        'fillOpacity': 1\n",
    "        },\n",
    "    legend_kwds={\n",
    "        'colorbar': False,\n",
    "        'fmt': '{:.0f}'\n",
    "        }\n",
    "    )"
   ]
  },
  {
   "cell_type": "code",
   "execution_count": null,
   "id": "d111536a",
   "metadata": {},
   "outputs": [],
   "source": [
    "# Construindo spatial weights object\n",
    "w = weights.contiguity.Queen.from_dataframe(censo_es)\n",
    "\n",
    "# Plotando spatial weights\n",
    "plot_spatial_weights(w, censo_es);"
   ]
  },
  {
   "cell_type": "code",
   "execution_count": null,
   "id": "efad1c8c",
   "metadata": {},
   "outputs": [],
   "source": [
    "# Transformando weights em binario (Se 1 = is neighbor, 0 = not neighbor)\n",
    "w.transform = \"B\"\n",
    "\n",
    "# Showing neighbors indexes\n",
    "w.neighbors"
   ]
  },
  {
   "cell_type": "code",
   "execution_count": null,
   "id": "1f35733a",
   "metadata": {},
   "outputs": [],
   "source": [
    "# Showing weights\n",
    "w.weights"
   ]
  },
  {
   "cell_type": "code",
   "execution_count": null,
   "id": "b1b3cdda",
   "metadata": {},
   "outputs": [],
   "source": [
    "# Calculando Spatial Lag\n",
    "censo_es['w_pop'] = weights.lag_spatial(w, censo_es['População'])\n",
    "censo_es['w_PIB'] = weights.lag_spatial(w, censo_es['PIB2020'])\n",
    "censo_es['w_PIBperc'] = weights.lag_spatial(w, censo_es['PIB_percap'])\n",
    "censo_es['w_popkm2'] = weights.lag_spatial(w, censo_es['pop_km2'])\n",
    "\n",
    "censo_es[['geocodigo', 'População', 'w_pop', 'PIB2020','PIB_percap','w_PIB', 'w_popkm2', 'w_PIBperc']].head()"
   ]
  },
  {
   "cell_type": "code",
   "execution_count": null,
   "id": "795c9671",
   "metadata": {},
   "outputs": [],
   "source": [
    "# Variable of interest (populacao por km2)\n",
    "y_popper_count = censo_es['pop_km2']\n",
    "\n",
    "# Calculando Moran I statistic\n",
    "moran = Moran(y_popper_count, w)\n",
    "\n",
    "# Moran's I statistic\n",
    "moran.I\n"
   ]
  },
  {
   "cell_type": "code",
   "execution_count": null,
   "id": "eb1ae935",
   "metadata": {},
   "outputs": [],
   "source": [
    "moran.p_sim"
   ]
  },
  {
   "cell_type": "code",
   "execution_count": null,
   "id": "027b479d",
   "metadata": {},
   "outputs": [],
   "source": [
    "# Local Moran's I\n",
    "popper_count_local_moran = Moran_Local(y_popper_count, w)\n",
    "\n",
    "# Plotting Local Moran's I scatterplot of pop_count\n",
    "fig, ax = moran_scatterplot(popper_count_local_moran, p=0.05);\n",
    "\n",
    "plt.text(1.95, 1, 'HH', fontsize=25)\n",
    "plt.text(1.95, -1.0, 'HL', fontsize=25)\n",
    "plt.text(-1.5, 1, 'LH', fontsize=25)\n",
    "plt.text(-1.5, -1, 'LL', fontsize=25)\n",
    "plt.show()"
   ]
  },
  {
   "cell_type": "code",
   "execution_count": null,
   "id": "28d83017",
   "metadata": {},
   "outputs": [],
   "source": [
    "# Variable of interest (PIB2020)\n",
    "y_total_pipercap = censo_es['PIB_percap']\n",
    "# Calculating Moran's I statistic\n",
    "moran = Moran(y_total_pipercap, w)\n",
    "\n",
    "# Moran's I statistic\n",
    "moran.I"
   ]
  },
  {
   "cell_type": "code",
   "execution_count": null,
   "id": "37dfa6ed",
   "metadata": {},
   "outputs": [],
   "source": [
    "moran.p_sim"
   ]
  },
  {
   "cell_type": "code",
   "execution_count": null,
   "id": "85e4dd83",
   "metadata": {
    "scrolled": true
   },
   "outputs": [],
   "source": [
    "\n",
    "moran_scatterplot(moran);"
   ]
  },
  {
   "cell_type": "code",
   "execution_count": null,
   "id": "8f54a7d6",
   "metadata": {},
   "outputs": [],
   "source": [
    "# Local Moran's I\n",
    "total_pipercap = Moran_Local(y_total_pipercap, w)\n",
    "\n",
    "# Plotting Local Moran's I scatterplot of pop_count\n",
    "fig, ax = moran_scatterplot(popper_count_local_moran, p=0.05);\n",
    "\n",
    "plt.text(1.95, 1, 'HH', fontsize=25)\n",
    "plt.text(1.95, -1.0, 'HL', fontsize=25)\n",
    "plt.text(-1.5, 1, 'LH', fontsize=25)\n",
    "plt.text(-1.5, -1, 'LL', fontsize=25)\n",
    "plt.show()"
   ]
  },
  {
   "cell_type": "code",
   "execution_count": null,
   "id": "669e14f2",
   "metadata": {},
   "outputs": [],
   "source": [
    "# creating column with local_moran classification\n",
    "censo_es['popper_count_local_moran'] = popper_count_local_moran.q\n",
    "\n",
    "# Dict to map local moran's classification codes\n",
    "local_moran_classification = {1: 'HH', 2: 'LH', 3: 'LL', 4: 'HL'}\n",
    "\n",
    "# Mapping local moran's classification codes\n",
    "\n",
    "censo_es['popper_count_local_moran'] = censo_es['popper_count_local_moran'].map(local_moran_classification)\n",
    "\n",
    "# p-value for each observation/neighbor pair\n",
    "\n",
    "censo_es['popper_count_local_moran_p_sim'] = popper_count_local_moran.p_sim\n",
    "\n",
    "# If p-value > 0.05 it is not statistical significant\n",
    "\n",
    "censo_es['popper_count_local_moran'] = np.where(censo_es['popper_count_local_moran_p_sim'] > 0.05, 'ns', censo_es['popper_count_local_moran'])\n",
    "censo_es.head()"
   ]
  },
  {
   "cell_type": "code",
   "execution_count": null,
   "id": "fcf09abb",
   "metadata": {},
   "outputs": [],
   "source": [
    "# Plotting Local Moran's I classificacao populacao por km2\n",
    "censo_es.explore(\n",
    "    tiles='cartodbpositron',\n",
    "    column='popper_count_local_moran',\n",
    "    height='70%',\n",
    "    width='70%',\n",
    "    cmap=[\n",
    "    '#D7191C', # Red\n",
    "    '#FDAE61', # Orange\n",
    "    '#ABD9E9', # Light Blue\n",
    "    '#2C7BB6', # Blue\n",
    "    '#D3D3D3'  # Grey\n",
    "    ],\n",
    "    style_kwds={\n",
    "        'stroke': True,\n",
    "        'edgecolor': 'k',\n",
    "        'linewidth': 0.03,\n",
    "        'fillOpacity': 1\n",
    "        \n",
    "        },\n",
    "    )"
   ]
  },
  {
   "cell_type": "code",
   "execution_count": null,
   "id": "3a105da3",
   "metadata": {},
   "outputs": [],
   "source": [
    "# creating column with local_moran classification\n",
    "censo_es['total_pipercap'] = total_pipercap.q\n",
    "\n",
    "# Dict to map local moran's classification codes\n",
    "local_moran_classification = {1: 'HH', 2: 'LH', 3: 'LL', 4: 'HL'}\n",
    "\n",
    "# Mapping local moran's classification codes\n",
    "censo_es['total_pipercap'] = censo_es['total_pipercap'].map(local_moran_classification)\n",
    "\n",
    "# p-value for each observation/neighbor pair\n",
    "censo_es['total_pipercapp_sim'] = total_pipercap.p_sim\n",
    "\n",
    "# If p-value > 0.05 it is not statistical significant\n",
    "censo_es['total_pipercap'] = np.where(censo_es['total_pipercapp_sim'] > 0.05, 'ns', censo_es['total_pipercap'])\n",
    "\n",
    "# Plotting Local Moran's I classification map of pop_count column\n",
    "censo_es.explore(\n",
    "    tiles='cartodbpositron',\n",
    "    column='total_pipercap',\n",
    "    height='70%',\n",
    "    width='70%',\n",
    "    cmap=[\n",
    "    '#D7191C', # Red\n",
    "    '#FDAE61', # Orange\n",
    "    '#ABD9E9', # Light Blue\n",
    "    '#2C7BB6', # Blue\n",
    "    '#D3D3D3'  # Grey\n",
    "    ],\n",
    "    style_kwds={\n",
    "        'stroke': True,\n",
    "        'edgecolor': 'k',\n",
    "        'linewidth': 0.03,\n",
    "        'fillOpacity': 1\n",
    "        \n",
    "        },\n",
    "    )"
   ]
  },
  {
   "cell_type": "code",
   "execution_count": null,
   "id": "ebeb5a97",
   "metadata": {},
   "outputs": [],
   "source": []
  },
  {
   "cell_type": "code",
   "execution_count": null,
   "id": "b1e529f1",
   "metadata": {},
   "outputs": [],
   "source": []
  }
 ],
 "metadata": {
  "kernelspec": {
   "display_name": "Python 3 (ipykernel)",
   "language": "python",
   "name": "python3"
  },
  "language_info": {
   "codemirror_mode": {
    "name": "ipython",
    "version": 3
   },
   "file_extension": ".py",
   "mimetype": "text/x-python",
   "name": "python",
   "nbconvert_exporter": "python",
   "pygments_lexer": "ipython3",
   "version": "3.9.16"
  }
 },
 "nbformat": 4,
 "nbformat_minor": 5
}
