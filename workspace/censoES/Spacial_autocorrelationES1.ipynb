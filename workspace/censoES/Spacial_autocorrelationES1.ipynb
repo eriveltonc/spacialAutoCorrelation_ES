{
 "cells": [
  {
   "cell_type": "code",
   "execution_count": null,
   "id": "cf99cd2d",
   "metadata": {},
   "outputs": [],
   "source": [
    "import pandas as pd\n",
    "import geopandas as gpd\n",
    "import numpy as np\n",
    "from pysal.lib import weights\n",
    "from splot.libpysal import plot_spatial_weights\n",
    "from esda.moran import Moran, Moran_Local\n",
    "from splot.esda import moran_scatterplot, plot_local_autocorrelation, lisa_cluster\n",
    "import matplotlib.pyplot as plt\n",
    "import folium\n",
    "import matplotlib.colors as colors\n",
    "\n",
    "import warnings\n",
    "warnings.filterwarnings(\"ignore\")"
   ]
  },
  {
   "cell_type": "code",
   "execution_count": null,
   "id": "f8cb99d1",
   "metadata": {},
   "outputs": [],
   "source": [
    "censo_es = gpd.GeoDataFrame.from_file('basemunicipal.geojson')\n",
    "censo_es['População'] = censo_es['População'].str.replace(r'\\D', '')\n",
    "censo_es['População'] = censo_es['População'].astype(int)\n",
    "#Obtendo o valor do PIB real, uma vez que o valor no dataset original se encontra em milhoes\n",
    "censo_es['PIB2020'] = censo_es['PIB2020'] *1000000\n",
    "censo_es.head()"
   ]
  },
  {
   "cell_type": "code",
   "execution_count": null,
   "id": "e1fd0f9b",
   "metadata": {},
   "outputs": [],
   "source": [
    "# Plotando choropleth map da coluna Populacao\n",
    "censo_es.explore(\n",
    "    tiles='cartodbpositron',\n",
    "    column='População',\n",
    "    height='60%',\n",
    "    width='60%',\n",
    "    scheme='naturalbreaks',\n",
    "    cmap='Oranges',\n",
    "    style_kwds={\n",
    "        'stroke': True,\n",
    "        'edgecolor': 'k',\n",
    "        'linewidth': 0.03,\n",
    "        'fillOpacity': 1\n",
    "        },\n",
    "    legend_kwds={\n",
    "        'colorbar': False,\n",
    "        'fmt': '{:.0f}'\n",
    "        }\n",
    "    )"
   ]
  },
  {
   "cell_type": "code",
   "execution_count": null,
   "id": "c4f59cc8",
   "metadata": {},
   "outputs": [],
   "source": [
    "# Plotting choropleth map da coluna PIB2020\n",
    "censo_es.explore(\n",
    "    tiles='cartodbpositron',\n",
    "    column='PIB2020',\n",
    "    height='60%',\n",
    "    width='60%',\n",
    "    scheme='naturalbreaks',\n",
    "    cmap='Oranges',\n",
    "    style_kwds={\n",
    "        'stroke': True,\n",
    "        'edgecolor': 'k',\n",
    "        'linewidth': 0.03,\n",
    "        'fillOpacity': 1\n",
    "        },\n",
    "    legend_kwds={\n",
    "        'colorbar': False,\n",
    "        'fmt': '{:.0f}'\n",
    "        }\n",
    "    )"
   ]
  },
  {
   "cell_type": "code",
   "execution_count": null,
   "id": "363f6cee",
   "metadata": {},
   "outputs": [],
   "source": [
    "# Construindo spatial weights object\n",
    "w = weights.contiguity.Queen.from_dataframe(censo_es)\n",
    "\n",
    "# Plotando spatial weights\n",
    "plot_spatial_weights(w, censo_es);"
   ]
  },
  {
   "cell_type": "code",
   "execution_count": null,
   "id": "e4900f55",
   "metadata": {},
   "outputs": [],
   "source": [
    "# Transformando weights em binario (Se 1 = is neighbor, 0 = not neighbor)\n",
    "w.transform = \"B\"\n",
    "\n",
    "# Showing neighbors indexes\n",
    "w.neighbors"
   ]
  },
  {
   "cell_type": "code",
   "execution_count": null,
   "id": "7ccb3cbb",
   "metadata": {},
   "outputs": [],
   "source": [
    "# Showing weights\n",
    "w.weights"
   ]
  },
  {
   "cell_type": "code",
   "execution_count": null,
   "id": "d528ddb9",
   "metadata": {},
   "outputs": [],
   "source": [
    "# Calculando Spatial Lag\n",
    "censo_es['w_pop'] = weights.lag_spatial(w, censo_es['População'])\n",
    "censo_es['w_PIB'] = weights.lag_spatial(w, censo_es['PIB2020'])\n",
    "\n",
    "\n",
    "censo_es[['geocodigo', 'População', 'w_pop', 'PIB2020','w_PIB']].head()"
   ]
  },
  {
   "cell_type": "code",
   "execution_count": null,
   "id": "d0a632ab",
   "metadata": {},
   "outputs": [],
   "source": [
    "# Calculando Spatial Lag\n",
    "censo_es.loc[w.neighbors[0], ['geocodigo', 'População', 'w_pop']]['População'].sum()\n"
   ]
  },
  {
   "cell_type": "code",
   "execution_count": null,
   "id": "e672ca69",
   "metadata": {},
   "outputs": [],
   "source": [
    "# Variable of interest (populacao)\n",
    "y_pop_count = censo_es['População']\n",
    "\n",
    "# Calculando Moran I statistic\n",
    "moran = Moran(y_pop_count, w)\n",
    "\n",
    "# Moran's I statistic\n",
    "moran.I\n"
   ]
  },
  {
   "cell_type": "code",
   "execution_count": null,
   "id": "9ffb32e9",
   "metadata": {},
   "outputs": [],
   "source": [
    "moran.p_sim"
   ]
  },
  {
   "cell_type": "code",
   "execution_count": null,
   "id": "e1160ea8",
   "metadata": {},
   "outputs": [],
   "source": [
    "# Plotando Moran I scatter plot\n",
    "moran_scatterplot(moran);"
   ]
  },
  {
   "cell_type": "code",
   "execution_count": null,
   "id": "f782a8d1",
   "metadata": {},
   "outputs": [],
   "source": [
    "# Variable of interest (PIB2020)\n",
    "y_total_monthly_income = censo_es['PIB2020']\n",
    "\n",
    "# Calculating Moran's I statistic\n",
    "moran = Moran(y_total_monthly_income, w)\n",
    "\n",
    "# Moran's I statistic\n",
    "moran.I\n",
    "\n",
    "\n"
   ]
  },
  {
   "cell_type": "code",
   "execution_count": null,
   "id": "ff054b24",
   "metadata": {},
   "outputs": [],
   "source": [
    "moran.p_sim"
   ]
  },
  {
   "cell_type": "code",
   "execution_count": null,
   "id": "09cbd8c0",
   "metadata": {
    "scrolled": true
   },
   "outputs": [],
   "source": [
    "moran_scatterplot(moran);"
   ]
  },
  {
   "cell_type": "code",
   "execution_count": null,
   "id": "022fa428",
   "metadata": {},
   "outputs": [],
   "source": [
    "# Local Moran's I\n",
    "pop_count_local_moran = Moran_Local(y_pop_count, w)\n",
    "\n",
    "# Plotting Local Moran's I scatterplot of pop_count\n",
    "fig, ax = moran_scatterplot(pop_count_local_moran, p=0.05);\n",
    "\n",
    "plt.text(1.95, 1, 'HH', fontsize=25)\n",
    "plt.text(1.95, -1.0, 'HL', fontsize=25)\n",
    "plt.text(-1.5, 1, 'LH', fontsize=25)\n",
    "plt.text(-1.5, -1, 'LL', fontsize=25)\n",
    "plt.show()"
   ]
  },
  {
   "cell_type": "code",
   "execution_count": null,
   "id": "0a3ea30a",
   "metadata": {},
   "outputs": [],
   "source": [
    "# creating column with local_moran classification\n",
    "censo_es['pop_count_local_moran'] = pop_count_local_moran.q\n",
    "\n",
    "\n",
    "# Dict to map local moran's classification codes\n",
    "local_moran_classification = {1: 'HH', 2: 'LH', 3: 'LL', 4: 'HL'}\n",
    "\n",
    "# Mapping local moran's classification codes\n",
    "censo_es['pop_count_local_moran'] = censo_es['pop_count_local_moran'].map(local_moran_classification)\n",
    "\n",
    "\n",
    "# p-value for each observation/neighbor pair\n",
    "censo_es['pop_count_local_moran_p_sim'] = pop_count_local_moran.p_sim\n",
    "\n",
    "\n",
    "# If p-value > 0.05 it is not statistical significant\n",
    "censo_es['pop_count_local_moran'] = np.where(censo_es['pop_count_local_moran_p_sim'] > 0.05, 'ns', censo_es['pop_count_local_moran'])\n",
    "\n",
    "censo_es.head()"
   ]
  },
  {
   "cell_type": "code",
   "execution_count": null,
   "id": "7a8b88de",
   "metadata": {},
   "outputs": [],
   "source": [
    "# Plotting Local Moran's I classification map of pop_count column\n",
    "censo_es.explore(\n",
    "    tiles='cartodbpositron',\n",
    "    column='pop_count_local_moran',\n",
    "    height='70%',\n",
    "    width='70%',\n",
    "    cmap=[\n",
    "    '#D7191C', # Red\n",
    "    '#FDAE61', # Orange\n",
    "    '#ABD9E9', # Light Blue\n",
    "    '#2C7BB6', # Blue\n",
    "    '#D3D3D3'  # Grey\n",
    "    ],\n",
    "    style_kwds={\n",
    "        'stroke': True,\n",
    "        'edgecolor': 'k',\n",
    "        'linewidth': 0.03,\n",
    "        'fillOpacity': 1\n",
    "        \n",
    "        },\n",
    "    )"
   ]
  },
  {
   "cell_type": "code",
   "execution_count": null,
   "id": "ec90b73f",
   "metadata": {},
   "outputs": [],
   "source": [
    "# Local Moran's I\n",
    "total_monthly_income_local_moran = Moran_Local(y_total_monthly_income, w)\n",
    "\n",
    "# Plotting Local Moran's I scatterplot of pop_count\n",
    "fig, ax = moran_scatterplot(total_monthly_income_local_moran, p=0.05);\n",
    "\n",
    "plt.text(1.95, 1, 'HH', fontsize=25)\n",
    "plt.text(1.95, -1.0, 'HL', fontsize=25)\n",
    "plt.text(-1.5, 1, 'LH', fontsize=25)\n",
    "plt.text(-1.5, -1, 'LL', fontsize=25)\n",
    "plt.show()"
   ]
  },
  {
   "cell_type": "code",
   "execution_count": null,
   "id": "1b9188d6",
   "metadata": {},
   "outputs": [],
   "source": [
    "# creating column with local_moran classification\n",
    "censo_es['total_monthly_income_local_moran'] = total_monthly_income_local_moran.q\n",
    "\n",
    "# Dict to map local moran's classification codes\n",
    "local_moran_classification = {1: 'HH', 2: 'LH', 3: 'LL', 4: 'HL'}\n",
    "\n",
    "# Mapping local moran's classification codes\n",
    "censo_es['total_monthly_income_local_moran'] = censo_es['total_monthly_income_local_moran'].map(local_moran_classification)\n",
    "\n",
    "# p-value for each observation/neighbor pair\n",
    "censo_es['total_monthly_income_local_moran_p_sim'] = total_monthly_income_local_moran.p_sim\n",
    "\n",
    "# If p-value > 0.05 it is not statistical significant\n",
    "censo_es['total_monthly_income_local_moran'] = np.where(censo_es['total_monthly_income_local_moran_p_sim'] > 0.05, 'ns', censo_es['total_monthly_income_local_moran'])\n",
    "\n",
    "# Plotting Local Moran's I classification map of pop_count column\n",
    "censo_es.explore(\n",
    "    tiles='cartodbpositron',\n",
    "    column='total_monthly_income_local_moran',\n",
    "    height='70%',\n",
    "    width='70%',\n",
    "    cmap=[\n",
    "    '#D7191C', # Red\n",
    "    '#FDAE61', # Orange\n",
    "    '#ABD9E9', # Light Blue\n",
    "    '#2C7BB6', # Blue\n",
    "    '#D3D3D3'  # Grey\n",
    "    ],\n",
    "    style_kwds={\n",
    "        'stroke': True,\n",
    "        'edgecolor': 'k',\n",
    "        'linewidth': 0.03,\n",
    "        'fillOpacity': 1\n",
    "        \n",
    "        },\n",
    "    )"
   ]
  },
  {
   "cell_type": "code",
   "execution_count": null,
   "id": "300a4053",
   "metadata": {},
   "outputs": [],
   "source": []
  }
 ],
 "metadata": {
  "kernelspec": {
   "display_name": "Python 3 (ipykernel)",
   "language": "python",
   "name": "python3"
  },
  "language_info": {
   "codemirror_mode": {
    "name": "ipython",
    "version": 3
   },
   "file_extension": ".py",
   "mimetype": "text/x-python",
   "name": "python",
   "nbconvert_exporter": "python",
   "pygments_lexer": "ipython3",
   "version": "3.9.16"
  }
 },
 "nbformat": 4,
 "nbformat_minor": 5
}
